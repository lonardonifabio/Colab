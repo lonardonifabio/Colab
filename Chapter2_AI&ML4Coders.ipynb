{
  "nbformat": 4,
  "nbformat_minor": 0,
  "metadata": {
    "colab": {
      "provenance": [],
      "authorship_tag": "ABX9TyP7w3F/AUmLDNarSwH6Fcxt",
      "include_colab_link": true
    },
    "kernelspec": {
      "name": "python3",
      "display_name": "Python 3"
    },
    "language_info": {
      "name": "python"
    }
  },
  "cells": [
    {
      "cell_type": "markdown",
      "metadata": {
        "id": "view-in-github",
        "colab_type": "text"
      },
      "source": [
        "<a href=\"https://colab.research.google.com/github/lonardonifabio/Colab/blob/main/Chapter2_AI%26ML4Coders.ipynb\" target=\"_parent\"><img src=\"https://colab.research.google.com/assets/colab-badge.svg\" alt=\"Open In Colab\"/></a>"
      ]
    },
    {
      "cell_type": "code",
      "execution_count": null,
      "metadata": {
        "colab": {
          "base_uri": "https://localhost:8080/"
        },
        "id": "diT8UDBCR14I",
        "outputId": "336eec67-e5e6-43ab-ec25-4a4a135124e4"
      },
      "outputs": [
        {
          "output_type": "stream",
          "name": "stdout",
          "text": [
            "Looking in indexes: https://pypi.org/simple, https://us-python.pkg.dev/colab-wheels/public/simple/\n",
            "Requirement already satisfied: tensorflow in /usr/local/lib/python3.8/dist-packages (2.9.2)\n",
            "Requirement already satisfied: tensorflow-io-gcs-filesystem>=0.23.1 in /usr/local/lib/python3.8/dist-packages (from tensorflow) (0.29.0)\n",
            "Requirement already satisfied: gast<=0.4.0,>=0.2.1 in /usr/local/lib/python3.8/dist-packages (from tensorflow) (0.4.0)\n",
            "Requirement already satisfied: keras-preprocessing>=1.1.1 in /usr/local/lib/python3.8/dist-packages (from tensorflow) (1.1.2)\n",
            "Requirement already satisfied: absl-py>=1.0.0 in /usr/local/lib/python3.8/dist-packages (from tensorflow) (1.3.0)\n",
            "Requirement already satisfied: six>=1.12.0 in /usr/local/lib/python3.8/dist-packages (from tensorflow) (1.15.0)\n",
            "Requirement already satisfied: typing-extensions>=3.6.6 in /usr/local/lib/python3.8/dist-packages (from tensorflow) (4.4.0)\n",
            "Requirement already satisfied: setuptools in /usr/local/lib/python3.8/dist-packages (from tensorflow) (57.4.0)\n",
            "Requirement already satisfied: libclang>=13.0.0 in /usr/local/lib/python3.8/dist-packages (from tensorflow) (15.0.6.1)\n",
            "Requirement already satisfied: protobuf<3.20,>=3.9.2 in /usr/local/lib/python3.8/dist-packages (from tensorflow) (3.19.6)\n",
            "Requirement already satisfied: astunparse>=1.6.0 in /usr/local/lib/python3.8/dist-packages (from tensorflow) (1.6.3)\n",
            "Requirement already satisfied: numpy>=1.20 in /usr/local/lib/python3.8/dist-packages (from tensorflow) (1.21.6)\n",
            "Requirement already satisfied: h5py>=2.9.0 in /usr/local/lib/python3.8/dist-packages (from tensorflow) (3.1.0)\n",
            "Requirement already satisfied: flatbuffers<2,>=1.12 in /usr/local/lib/python3.8/dist-packages (from tensorflow) (1.12)\n",
            "Requirement already satisfied: tensorboard<2.10,>=2.9 in /usr/local/lib/python3.8/dist-packages (from tensorflow) (2.9.1)\n",
            "Requirement already satisfied: termcolor>=1.1.0 in /usr/local/lib/python3.8/dist-packages (from tensorflow) (2.2.0)\n",
            "Requirement already satisfied: wrapt>=1.11.0 in /usr/local/lib/python3.8/dist-packages (from tensorflow) (1.14.1)\n",
            "Requirement already satisfied: opt-einsum>=2.3.2 in /usr/local/lib/python3.8/dist-packages (from tensorflow) (3.3.0)\n",
            "Requirement already satisfied: packaging in /usr/local/lib/python3.8/dist-packages (from tensorflow) (21.3)\n",
            "Requirement already satisfied: keras<2.10.0,>=2.9.0rc0 in /usr/local/lib/python3.8/dist-packages (from tensorflow) (2.9.0)\n",
            "Requirement already satisfied: grpcio<2.0,>=1.24.3 in /usr/local/lib/python3.8/dist-packages (from tensorflow) (1.51.1)\n",
            "Requirement already satisfied: google-pasta>=0.1.1 in /usr/local/lib/python3.8/dist-packages (from tensorflow) (0.2.0)\n",
            "Requirement already satisfied: tensorflow-estimator<2.10.0,>=2.9.0rc0 in /usr/local/lib/python3.8/dist-packages (from tensorflow) (2.9.0)\n",
            "Requirement already satisfied: wheel<1.0,>=0.23.0 in /usr/local/lib/python3.8/dist-packages (from astunparse>=1.6.0->tensorflow) (0.38.4)\n",
            "Requirement already satisfied: markdown>=2.6.8 in /usr/local/lib/python3.8/dist-packages (from tensorboard<2.10,>=2.9->tensorflow) (3.4.1)\n",
            "Requirement already satisfied: tensorboard-plugin-wit>=1.6.0 in /usr/local/lib/python3.8/dist-packages (from tensorboard<2.10,>=2.9->tensorflow) (1.8.1)\n",
            "Requirement already satisfied: google-auth<3,>=1.6.3 in /usr/local/lib/python3.8/dist-packages (from tensorboard<2.10,>=2.9->tensorflow) (2.16.0)\n",
            "Requirement already satisfied: google-auth-oauthlib<0.5,>=0.4.1 in /usr/local/lib/python3.8/dist-packages (from tensorboard<2.10,>=2.9->tensorflow) (0.4.6)\n",
            "Requirement already satisfied: requests<3,>=2.21.0 in /usr/local/lib/python3.8/dist-packages (from tensorboard<2.10,>=2.9->tensorflow) (2.25.1)\n",
            "Requirement already satisfied: tensorboard-data-server<0.7.0,>=0.6.0 in /usr/local/lib/python3.8/dist-packages (from tensorboard<2.10,>=2.9->tensorflow) (0.6.1)\n",
            "Requirement already satisfied: werkzeug>=1.0.1 in /usr/local/lib/python3.8/dist-packages (from tensorboard<2.10,>=2.9->tensorflow) (1.0.1)\n",
            "Requirement already satisfied: pyparsing!=3.0.5,>=2.0.2 in /usr/local/lib/python3.8/dist-packages (from packaging->tensorflow) (3.0.9)\n",
            "Requirement already satisfied: cachetools<6.0,>=2.0.0 in /usr/local/lib/python3.8/dist-packages (from google-auth<3,>=1.6.3->tensorboard<2.10,>=2.9->tensorflow) (5.2.1)\n",
            "Requirement already satisfied: rsa<5,>=3.1.4 in /usr/local/lib/python3.8/dist-packages (from google-auth<3,>=1.6.3->tensorboard<2.10,>=2.9->tensorflow) (4.9)\n",
            "Requirement already satisfied: pyasn1-modules>=0.2.1 in /usr/local/lib/python3.8/dist-packages (from google-auth<3,>=1.6.3->tensorboard<2.10,>=2.9->tensorflow) (0.2.8)\n",
            "Requirement already satisfied: requests-oauthlib>=0.7.0 in /usr/local/lib/python3.8/dist-packages (from google-auth-oauthlib<0.5,>=0.4.1->tensorboard<2.10,>=2.9->tensorflow) (1.3.1)\n",
            "Requirement already satisfied: importlib-metadata>=4.4 in /usr/local/lib/python3.8/dist-packages (from markdown>=2.6.8->tensorboard<2.10,>=2.9->tensorflow) (6.0.0)\n",
            "Requirement already satisfied: chardet<5,>=3.0.2 in /usr/local/lib/python3.8/dist-packages (from requests<3,>=2.21.0->tensorboard<2.10,>=2.9->tensorflow) (4.0.0)\n",
            "Requirement already satisfied: urllib3<1.27,>=1.21.1 in /usr/local/lib/python3.8/dist-packages (from requests<3,>=2.21.0->tensorboard<2.10,>=2.9->tensorflow) (1.24.3)\n",
            "Requirement already satisfied: idna<3,>=2.5 in /usr/local/lib/python3.8/dist-packages (from requests<3,>=2.21.0->tensorboard<2.10,>=2.9->tensorflow) (2.10)\n",
            "Requirement already satisfied: certifi>=2017.4.17 in /usr/local/lib/python3.8/dist-packages (from requests<3,>=2.21.0->tensorboard<2.10,>=2.9->tensorflow) (2022.12.7)\n",
            "Requirement already satisfied: zipp>=0.5 in /usr/local/lib/python3.8/dist-packages (from importlib-metadata>=4.4->markdown>=2.6.8->tensorboard<2.10,>=2.9->tensorflow) (3.11.0)\n",
            "Requirement already satisfied: pyasn1<0.5.0,>=0.4.6 in /usr/local/lib/python3.8/dist-packages (from pyasn1-modules>=0.2.1->google-auth<3,>=1.6.3->tensorboard<2.10,>=2.9->tensorflow) (0.4.8)\n",
            "Requirement already satisfied: oauthlib>=3.0.0 in /usr/local/lib/python3.8/dist-packages (from requests-oauthlib>=0.7.0->google-auth-oauthlib<0.5,>=0.4.1->tensorboard<2.10,>=2.9->tensorflow) (3.2.2)\n"
          ]
        }
      ],
      "source": [
        "!pip install tensorflow"
      ]
    },
    {
      "cell_type": "code",
      "source": [
        "import tensorflow as tf\n",
        "\n",
        "class myCallback(tf.keras.callbacks.Callback):\n",
        "  def on_epoch_end(self, epoch, logs={}):\n",
        "    if(logs.get(\"accuracy\")>0.95):\n",
        "      print(\"\\nReached 95% accuracy so cancelling training!\")\n",
        "      self.model.stop_training = True\n",
        "\n",
        "callbacks = myCallback()\n",
        "\n",
        "data = tf.keras.datasets.fashion_mnist #Connection with MNIST dataset\n",
        "\n",
        "(training_images, training_labels), (test_images, test_labels) = data.load_data() #Loading Training and Test data, labels+images\n",
        "\n",
        "#normalizing images - each pixel are grayscales and they go from 0 to 255; by this normalizing activity we are sure that pixel are a number from 0 to 1\n",
        "training_images = training_images/255.0\n",
        "test_images = test_images/255.0\n",
        "\n",
        "model = tf.keras.models.Sequential([\n",
        "    tf.keras.layers.Flatten(input_shape=(28,28)), #Inputs are 28*28 images, we want them to be treated as a series of numeric values - a linear array instead a matrix [FLATTEN]\n",
        "    tf.keras.layers.Dense(128, activation=tf.nn.relu), #Hidden Layers, a layer between INP and OUT - 128 neurons with their internal parameters randomly initialized. RELU is an activation function to provide just postivie values to share with next layer\n",
        "    tf.keras.layers.Dense(10, activation=tf.nn.softmax) #10 neurons because we have 10 classes. each of these neurons will end up with a probability that the input pixel match the class. Softmax will provide us just the highest value on probability match\n",
        "])\n",
        "\n",
        "model.compile(optimizer=\"adam\",\n",
        "              loss=\"sparse_categorical_crossentropy\",\n",
        "              metrics=[\"accuracy\"])\n",
        "\n",
        "model.fit(training_images, training_labels, epochs=50, callbacks=[callbacks]) #Training the model by fitting training images to the training labels until we get the 95% of accuracy"
      ],
      "metadata": {
        "colab": {
          "base_uri": "https://localhost:8080/"
        },
        "id": "pTajnJbFbVoP",
        "outputId": "dda44b6c-fb77-400c-8d7c-a6f17f896ac8"
      },
      "execution_count": 9,
      "outputs": [
        {
          "output_type": "stream",
          "name": "stdout",
          "text": [
            "Epoch 1/50\n",
            "1875/1875 [==============================] - 6s 3ms/step - loss: 0.4940 - accuracy: 0.8259\n",
            "Epoch 2/50\n",
            "1875/1875 [==============================] - 6s 3ms/step - loss: 0.3718 - accuracy: 0.8666\n",
            "Epoch 3/50\n",
            "1875/1875 [==============================] - 6s 3ms/step - loss: 0.3334 - accuracy: 0.8789\n",
            "Epoch 4/50\n",
            "1875/1875 [==============================] - 6s 3ms/step - loss: 0.3078 - accuracy: 0.8878\n",
            "Epoch 5/50\n",
            "1875/1875 [==============================] - 6s 3ms/step - loss: 0.2921 - accuracy: 0.8927\n",
            "Epoch 6/50\n",
            "1875/1875 [==============================] - 6s 3ms/step - loss: 0.2787 - accuracy: 0.8971\n",
            "Epoch 7/50\n",
            "1875/1875 [==============================] - 6s 3ms/step - loss: 0.2676 - accuracy: 0.9005\n",
            "Epoch 8/50\n",
            "1875/1875 [==============================] - 6s 3ms/step - loss: 0.2572 - accuracy: 0.9045\n",
            "Epoch 9/50\n",
            "1875/1875 [==============================] - 6s 3ms/step - loss: 0.2451 - accuracy: 0.9086\n",
            "Epoch 10/50\n",
            "1875/1875 [==============================] - 6s 3ms/step - loss: 0.2392 - accuracy: 0.9104\n",
            "Epoch 11/50\n",
            "1875/1875 [==============================] - 6s 3ms/step - loss: 0.2273 - accuracy: 0.9153\n",
            "Epoch 12/50\n",
            "1875/1875 [==============================] - 6s 3ms/step - loss: 0.2206 - accuracy: 0.9182\n",
            "Epoch 13/50\n",
            "1875/1875 [==============================] - 7s 4ms/step - loss: 0.2154 - accuracy: 0.9197\n",
            "Epoch 14/50\n",
            "1875/1875 [==============================] - 6s 3ms/step - loss: 0.2091 - accuracy: 0.9204\n",
            "Epoch 15/50\n",
            "1875/1875 [==============================] - 7s 3ms/step - loss: 0.2016 - accuracy: 0.9240\n",
            "Epoch 16/50\n",
            "1875/1875 [==============================] - 6s 3ms/step - loss: 0.1976 - accuracy: 0.9250\n",
            "Epoch 17/50\n",
            "1875/1875 [==============================] - 6s 3ms/step - loss: 0.1908 - accuracy: 0.9281\n",
            "Epoch 18/50\n",
            "1875/1875 [==============================] - 6s 3ms/step - loss: 0.1875 - accuracy: 0.9301\n",
            "Epoch 19/50\n",
            "1875/1875 [==============================] - 6s 3ms/step - loss: 0.1818 - accuracy: 0.9316\n",
            "Epoch 20/50\n",
            "1875/1875 [==============================] - 6s 3ms/step - loss: 0.1760 - accuracy: 0.9335\n",
            "Epoch 21/50\n",
            "1875/1875 [==============================] - 6s 3ms/step - loss: 0.1730 - accuracy: 0.9358\n",
            "Epoch 22/50\n",
            "1875/1875 [==============================] - 7s 4ms/step - loss: 0.1700 - accuracy: 0.9358\n",
            "Epoch 23/50\n",
            "1875/1875 [==============================] - 6s 3ms/step - loss: 0.1664 - accuracy: 0.9379\n",
            "Epoch 24/50\n",
            "1875/1875 [==============================] - 6s 3ms/step - loss: 0.1610 - accuracy: 0.9400\n",
            "Epoch 25/50\n",
            "1875/1875 [==============================] - 6s 3ms/step - loss: 0.1596 - accuracy: 0.9402\n",
            "Epoch 26/50\n",
            "1875/1875 [==============================] - 6s 3ms/step - loss: 0.1538 - accuracy: 0.9415\n",
            "Epoch 27/50\n",
            "1875/1875 [==============================] - 6s 3ms/step - loss: 0.1513 - accuracy: 0.9431\n",
            "Epoch 28/50\n",
            "1875/1875 [==============================] - 6s 3ms/step - loss: 0.1496 - accuracy: 0.9432\n",
            "Epoch 29/50\n",
            "1875/1875 [==============================] - 6s 3ms/step - loss: 0.1441 - accuracy: 0.9463\n",
            "Epoch 30/50\n",
            "1875/1875 [==============================] - 7s 4ms/step - loss: 0.1418 - accuracy: 0.9467\n",
            "Epoch 31/50\n",
            "1875/1875 [==============================] - 6s 3ms/step - loss: 0.1401 - accuracy: 0.9467\n",
            "Epoch 32/50\n",
            "1875/1875 [==============================] - 6s 3ms/step - loss: 0.1370 - accuracy: 0.9484\n",
            "Epoch 33/50\n",
            "1875/1875 [==============================] - 6s 3ms/step - loss: 0.1347 - accuracy: 0.9497\n",
            "Epoch 34/50\n",
            "1874/1875 [============================>.] - ETA: 0s - loss: 0.1314 - accuracy: 0.9508\n",
            "Reached 95% accuracy so cancelling training!\n",
            "1875/1875 [==============================] - 6s 3ms/step - loss: 0.1314 - accuracy: 0.9509\n"
          ]
        },
        {
          "output_type": "execute_result",
          "data": {
            "text/plain": [
              "<keras.callbacks.History at 0x7fc242dfa520>"
            ]
          },
          "metadata": {},
          "execution_count": 9
        }
      ]
    },
    {
      "cell_type": "code",
      "source": [
        "model.evaluate(test_images, test_labels)\n"
      ],
      "metadata": {
        "colab": {
          "base_uri": "https://localhost:8080/"
        },
        "id": "UGpMMX_9xj0p",
        "outputId": "7461cf2d-26d5-4585-ba86-c4ebb7b5f6f1"
      },
      "execution_count": 10,
      "outputs": [
        {
          "output_type": "stream",
          "name": "stdout",
          "text": [
            "313/313 [==============================] - 1s 2ms/step - loss: 0.4143 - accuracy: 0.8901\n"
          ]
        },
        {
          "output_type": "execute_result",
          "data": {
            "text/plain": [
              "[0.41427329182624817, 0.8901000022888184]"
            ]
          },
          "metadata": {},
          "execution_count": 10
        }
      ]
    },
    {
      "cell_type": "code",
      "source": [
        "classifications = model.predict(test_images)\n",
        "print(classifications[0])\n",
        "print(test_labels[0])"
      ],
      "metadata": {
        "id": "zkH_2UBC1Cm9",
        "outputId": "d62b5fd5-dec1-4ef5-ab1d-5f452f28ffca",
        "colab": {
          "base_uri": "https://localhost:8080/"
        }
      },
      "execution_count": 12,
      "outputs": [
        {
          "output_type": "stream",
          "name": "stdout",
          "text": [
            "313/313 [==============================] - 1s 2ms/step\n",
            "[3.3432968e-13 5.7319957e-17 1.8784229e-17 1.3890624e-17 4.0255470e-13\n",
            " 1.0406300e-05 4.7121820e-12 7.1237523e-06 1.1495066e-16 9.9998242e-01]\n",
            "9\n"
          ]
        }
      ]
    }
  ]
}